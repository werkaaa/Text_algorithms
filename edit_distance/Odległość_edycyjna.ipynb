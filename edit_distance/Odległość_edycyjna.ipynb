{
 "cells": [
  {
   "cell_type": "markdown",
   "metadata": {},
   "source": [
    "# Odległość edycyjna"
   ]
  },
  {
   "cell_type": "code",
   "execution_count": 2,
   "metadata": {},
   "outputs": [],
   "source": [
    "from spacy.tokenizer import Tokenizer\n",
    "from spacy.lang.pl import Polish\n",
    "from bisect import bisect\n",
    "import random"
   ]
  },
  {
   "cell_type": "markdown",
   "metadata": {},
   "source": [
    "## Odległość Levenshteina"
   ]
  },
  {
   "cell_type": "code",
   "execution_count": 3,
   "metadata": {},
   "outputs": [],
   "source": [
    "def LevenshteinDistance(word1, word2):\n",
    "    dist_matrix = [[(0, 0)]*(len(word2)+1) for i in range(len(word1)+1)]   \n",
    "    \n",
    "    for i in range(len(word1)+1):\n",
    "        dist_matrix[i][0] = (i, 0)\n",
    "    \n",
    "    for i in range(len(word2)+1):\n",
    "        dist_matrix[0][i] = (i, 0)\n",
    "        \n",
    "    for j in range(1, 1+len(word2)):\n",
    "        for i in range(1, 1+len(word1)):\n",
    "            if word1[i-1] == word2[j-1]:\n",
    "                substitution_cost = 0\n",
    "            else:\n",
    "                substitution_cost = 1\n",
    "                \n",
    "            min_ = min(dist_matrix[i-1][j][0]+1, dist_matrix[i][j-1][0]+1,\n",
    "                       dist_matrix[i-1][j-1][0]+substitution_cost)\n",
    "            \n",
    "            if min_==dist_matrix[i-1][j][0]+1:\n",
    "                dist_matrix[i][j] = (min_, (len(word2)+1)*(i-1)+j)\n",
    "            elif min_==dist_matrix[i][j-1][0]+1:\n",
    "                dist_matrix[i][j] = (min_, (len(word2)+1)*i+j-1)\n",
    "            else:\n",
    "                dist_matrix[i][j] = (min_, (len(word2)+1)*(i-1)+j-1)\n",
    "\n",
    "    return dist_matrix[-1][-1], dist_matrix    \n",
    "\n",
    "def visualization(word1, word2):\n",
    "    dist, dist_matrix = LevenshteinDistance(word1, word2)\n",
    "    height = len(dist_matrix)\n",
    "    width = len(dist_matrix[0])\n",
    "    i = height-1\n",
    "    j = width-1\n",
    "    output = \"\"\n",
    "    while i>0 or j>0:\n",
    "        i_, j_ = dist_matrix[i][j][1]//width, dist_matrix[i][j][1]%width\n",
    "        if i_ == i-1 and j_ == j-1 and dist_matrix[i_][j_][0] == dist_matrix[i][j][0]-1:\n",
    "            output=f'{word2[:j_]}*{word2[j_]}*{word1[i_+1:]} (substituted {word1[i_]}->{word2[j_]})\\n'+output\n",
    "        elif i_ == i-1 and dist_matrix[i_][j_][0] == dist_matrix[i][j][0]-1:\n",
    "            output=f'{word2[:j_]}**{word1[i_+1:]} (subtracted {word1[i_]})\\n'+output\n",
    "        elif j_ == j-1 and dist_matrix[i_][j_][0] == dist_matrix[i][j][0]-1:\n",
    "            output=f'{word2[:j_]}*{word2[j_]}*{word1[i_:]} (added {word2[j_]})\\n'+output          \n",
    "        i, j = i_, j_\n",
    "    print(f'Distance between {word1} and {word2} equals: {dist[0]}\\nSteps:')  \n",
    "    print(output)   "
   ]
  },
  {
   "cell_type": "code",
   "execution_count": 4,
   "metadata": {},
   "outputs": [
    {
     "name": "stdout",
     "output_type": "stream",
     "text": [
      "Distance between los and kloc equals: 2\n",
      "Steps:\n",
      "*k*los (added k)\n",
      "klo*c* (substituted s->c)\n",
      "\n",
      "-----------\n",
      "Distance between Łódź and Lodz equals: 3\n",
      "Steps:\n",
      "*L*ódź (substituted Ł->L)\n",
      "L*o*dź (substituted ó->o)\n",
      "Lod*z* (substituted ź->z)\n",
      "\n",
      "-----------\n",
      "Distance between kwintesencja and quintessence equals: 5\n",
      "Steps:\n",
      "*q*wintesencja (substituted k->q)\n",
      "q*u*intesencja (substituted w->u)\n",
      "quintes*s*encja (added s)\n",
      "quintessenc*e*a (substituted j->e)\n",
      "quintessence** (subtracted a)\n",
      "\n",
      "-----------\n",
      "Distance between ATGAATCTTACCGCCTCG and ATGAGGCTCTGGCCCCTG equals: 7\n",
      "Steps:\n",
      "ATGA*G*TCTTACCGCCTCG (substituted A->G)\n",
      "ATGAG*G*CTTACCGCCTCG (substituted T->G)\n",
      "ATGAGGCT*C*TACCGCCTCG (added C)\n",
      "ATGAGGCTCT*G*CCGCCTCG (substituted A->G)\n",
      "ATGAGGCTCTG*G*CCGCCTCG (added G)\n",
      "ATGAGGCTCTGGCC**CCTCG (subtracted G)\n",
      "ATGAGGCTCTGGCCCCT**G (subtracted C)\n",
      "\n",
      "-----------\n",
      "Distance between wojtk and wjeek equals: 3\n",
      "Steps:\n",
      "w**jtk (subtracted o)\n",
      "wj*e*k (substituted t->e)\n",
      "wje*e*k (added e)\n",
      "\n",
      "-----------\n"
     ]
    }
   ],
   "source": [
    "data = [(\"los\", \"kloc\"),(\"Łódź\", \"Lodz\"),(\"kwintesencja\", \"quintessence\"),\n",
    "        (\"ATGAATCTTACCGCCTCG\", \"ATGAGGCTCTGGCCCCTG\"), (\"wojtk\", \"wjeek\")]\n",
    "\n",
    "for (word1, word2) in data:\n",
    "    visualization(word1, word2)\n",
    "    print(\"-----------\")"
   ]
  },
  {
   "cell_type": "markdown",
   "metadata": {},
   "source": [
    "## Najdłuższy wspólny podciąg"
   ]
  },
  {
   "cell_type": "markdown",
   "metadata": {},
   "source": [
    "### LCS wśród tokenów"
   ]
  },
  {
   "cell_type": "markdown",
   "metadata": {},
   "source": [
    "#### Algorytmy znajdowania długości LCS"
   ]
  },
  {
   "cell_type": "code",
   "execution_count": 1,
   "metadata": {},
   "outputs": [],
   "source": [
    "# Hunt-Szymański algorithm\n",
    "def lcs(list1, list2, visualize=False):\n",
    "    lcs = []\n",
    "    ranges = [len(list2)]\n",
    "    for w in range(len(list1)):\n",
    "\n",
    "        positions = [j for (j, l) in enumerate(list2) if l == list1[w]]\n",
    "        positions.reverse()\n",
    "        \n",
    "        if visualize:\n",
    "            print(ranges)\n",
    "            i_ = 0\n",
    "            for i in ranges:\n",
    "                print(list2[i_:i])\n",
    "                i_ = i\n",
    "        \n",
    "        for p in positions:\n",
    "            k = bisect(ranges, p)\n",
    "            if k == bisect(ranges, p-1):\n",
    "                if k<len(ranges)-1:\n",
    "                    ranges[k] = p\n",
    "                else:\n",
    "                    ranges[k:k] = [p]\n",
    "        if visualize:            \n",
    "            print(f'->{list1[w]}')    \n",
    "            print(\"------------\")\n",
    "    \n",
    "    if visualize:\n",
    "        print(ranges)\n",
    "        i_ = 0\n",
    "        for i in ranges:\n",
    "            print(list2[i_:i])\n",
    "            i_ = i\n",
    "\n",
    "    return len(ranges) - 1, ranges"
   ]
  },
  {
   "cell_type": "code",
   "execution_count": 5,
   "metadata": {},
   "outputs": [],
   "source": [
    "# Standard algorithm\n",
    "def lcs2(word1, word2):\n",
    "    dist_matrix = [[0]*(len(word2)+1) for i in range(len(word1)+1)]   \n",
    "    \n",
    "    for i in range(len(word1)+1):\n",
    "        dist_matrix[i][0] =  0\n",
    "    \n",
    "    for i in range(len(word2)+1):\n",
    "        dist_matrix[0][i] = 0\n",
    "        \n",
    "    for j in range(1, 1+len(word2)):\n",
    "        for i in range(1, 1+len(word1)):\n",
    "            if word1[i-1] == word2[j-1]:\n",
    "                dist_matrix[i][j] = dist_matrix[i-1][j-1] + 1\n",
    "            else:\n",
    "                dist_matrix[i][j] = max(dist_matrix[i][j-1], dist_matrix[i-1][j])\n",
    "\n",
    "    return dist_matrix[-1][-1], dist_matrix   "
   ]
  },
  {
   "cell_type": "code",
   "execution_count": 6,
   "metadata": {
    "scrolled": false
   },
   "outputs": [
    {
     "name": "stdout",
     "output_type": "stream",
     "text": [
      "[10]\n",
      "abcabbabaz\n",
      "->z\n",
      "------------\n",
      "[9, 10]\n",
      "abcabbaba\n",
      "z\n",
      "->c\n",
      "------------\n",
      "[2, 10]\n",
      "ab\n",
      "cabbabaz\n",
      "->b\n",
      "------------\n",
      "[1, 4, 10]\n",
      "a\n",
      "bca\n",
      "bbabaz\n",
      "->b\n",
      "------------\n",
      "[1, 4, 5, 10]\n",
      "a\n",
      "bca\n",
      "b\n",
      "babaz\n",
      "->d\n",
      "------------\n",
      "[1, 4, 5, 10]\n",
      "a\n",
      "bca\n",
      "b\n",
      "babaz\n",
      "->a\n",
      "------------\n",
      "[0, 3, 5, 6, 10]\n",
      "\n",
      "abc\n",
      "ab\n",
      "b\n",
      "abaz\n"
     ]
    },
    {
     "data": {
      "text/plain": [
       "(4, [0, 3, 5, 6, 10])"
      ]
     },
     "execution_count": 6,
     "metadata": {},
     "output_type": "execute_result"
    }
   ],
   "source": [
    "lcs(\"zcbbda\", \"abcabbabaz\", True)"
   ]
  },
  {
   "cell_type": "code",
   "execution_count": 7,
   "metadata": {},
   "outputs": [
    {
     "data": {
      "text/plain": [
       "(4,\n",
       " [[0, 0, 0, 0, 0, 0, 0, 0, 0, 0, 0],\n",
       "  [0, 0, 0, 0, 0, 0, 0, 0, 0, 0, 1],\n",
       "  [0, 0, 0, 1, 1, 1, 1, 1, 1, 1, 1],\n",
       "  [0, 0, 1, 1, 1, 2, 2, 2, 2, 2, 2],\n",
       "  [0, 0, 1, 1, 1, 2, 3, 3, 3, 3, 3],\n",
       "  [0, 0, 1, 1, 1, 2, 3, 3, 3, 3, 3],\n",
       "  [0, 1, 1, 1, 2, 2, 3, 4, 4, 4, 4]])"
      ]
     },
     "execution_count": 7,
     "metadata": {},
     "output_type": "execute_result"
    }
   ],
   "source": [
    "lcs2(\"zcbbda\", \"abcabbabaz\")"
   ]
  },
  {
   "cell_type": "markdown",
   "metadata": {},
   "source": [
    "#### Tokenizacja"
   ]
  },
  {
   "cell_type": "code",
   "execution_count": 8,
   "metadata": {},
   "outputs": [],
   "source": [
    "nlp = Polish()\n",
    "tokenizer = Tokenizer(nlp.vocab)\n",
    "with open('romeo-i-julia-700.txt', 'r') as data:\n",
    "    tokens = tokenizer(data.read())"
   ]
  },
  {
   "cell_type": "code",
   "execution_count": 9,
   "metadata": {},
   "outputs": [],
   "source": [
    "def delete_random(data):\n",
    "    A = random.sample(list(range(len(data))), 97*len(data)//100)\n",
    "    A.sort()\n",
    "    return [data[i] for i in A]"
   ]
  },
  {
   "cell_type": "code",
   "execution_count": 10,
   "metadata": {},
   "outputs": [
    {
     "name": "stdout",
     "output_type": "stream",
     "text": [
      "LCS length for text1 and text2 equals given by standard algorithm: 2135\n",
      "LCS length for text1 and text2 equals given by Hunt-Szymański algorithm: 2135\n"
     ]
    }
   ],
   "source": [
    "text1 = delete_random(tokens)\n",
    "text2 = delete_random(tokens)\n",
    "lcs_length, ranges = lcs(text1, text2)\n",
    "print(f'LCS length for text1 and text2 equals given by standard algorithm: {lcs_length}')\n",
    "lcs_length, dist_matrix = lcs2(text1, text2)\n",
    "print(f'LCS length for text1 and text2 equals given by Hunt-Szymański algorithm: {lcs_length}')"
   ]
  },
  {
   "cell_type": "markdown",
   "metadata": {},
   "source": [
    "### Implementacja diff"
   ]
  },
  {
   "cell_type": "markdown",
   "metadata": {},
   "source": [
    "#### Odtwarzanie LCS"
   ]
  },
  {
   "cell_type": "code",
   "execution_count": 11,
   "metadata": {},
   "outputs": [],
   "source": [
    "def get_lcs(dist_matrix, word1, word2, i, j):\n",
    "    if i==0 or j==0:\n",
    "        return []\n",
    "    if word1[i-1] == word2[j-1]:\n",
    "        return get_lcs(dist_matrix, word1, word2, i-1, j-1) + [word1[i-1]]\n",
    "    if dist_matrix[i][j-1]>dist_matrix[i-1][j]:\n",
    "        return get_lcs(dist_matrix, word1, word2, i, j-1)\n",
    "    return get_lcs(dist_matrix, word1, word2, i-1, j)\n",
    "    "
   ]
  },
  {
   "cell_type": "code",
   "execution_count": 12,
   "metadata": {},
   "outputs": [],
   "source": [
    "def diff(file1, file2):\n",
    "    l, dist_matrix = lcs2(file1, file2)\n",
    "    lcs = get_lcs(dist_matrix, file1, file2, len(file1), len(file2))\n",
    "    i_1 = 0;\n",
    "    i_2 = 0;\n",
    "    i_lcs = 0;\n",
    "    \n",
    "    while i_1 < len(file1) or i_2 < len(file2):\n",
    "        while i_1 < len(file1) and (i_lcs >= len(lcs) or file1[i_1] != lcs[i_lcs]):\n",
    "            print(f'< {i_1}: {file1[i_1]}')\n",
    "            i_1+=1\n",
    "   \n",
    "        while i_2 < len(file2) and (i_lcs >= len(lcs) or file2[i_2] != lcs[i_lcs]):\n",
    "            print(f'> {i_2}: {file2[i_2]}')\n",
    "            i_2+=1\n",
    "            \n",
    "        i_lcs += 1\n",
    "        i_1 += 1\n",
    "        i_2 += 1\n",
    "    return lcs   \n",
    "        "
   ]
  },
  {
   "cell_type": "code",
   "execution_count": 13,
   "metadata": {},
   "outputs": [
    {
     "name": "stdout",
     "output_type": "stream",
     "text": [
      "< 0: z\n",
      "> 0: a\n",
      "> 1: b\n",
      "> 3: a\n",
      "< 4: d\n",
      "> 7: z\n",
      "> 8: b\n",
      "> 9: a\n"
     ]
    },
    {
     "data": {
      "text/plain": [
       "['c', 'b', 'b', 'a']"
      ]
     },
     "execution_count": 13,
     "metadata": {},
     "output_type": "execute_result"
    }
   ],
   "source": [
    "diff(['z','c','b','b','d','a'], ['a','b','c','a','b','b','a','z','b','a'])"
   ]
  },
  {
   "cell_type": "markdown",
   "metadata": {},
   "source": [
    "#### Podział tokenów na linie"
   ]
  },
  {
   "cell_type": "code",
   "execution_count": 14,
   "metadata": {},
   "outputs": [],
   "source": [
    "lines_of_tokens = []\n",
    "tokens_indices = []\n",
    "with open('romeo-i-julia-700.txt', 'r') as data:\n",
    "    line_no = 0\n",
    "    while True: \n",
    "        line = data.readline() \n",
    "        if not line: \n",
    "            break\n",
    "        tokens_ = tokenizer(line)#\n",
    "        lines_of_tokens.append(tokens_)\n",
    "        tokens_indices += [(line_no, t) for t in range(len(tokens_))]\n",
    "        line_no += 1 "
   ]
  },
  {
   "cell_type": "code",
   "execution_count": 15,
   "metadata": {},
   "outputs": [],
   "source": [
    "def delete_random_words(lines_of_tokens, tokens_indices):\n",
    "    A = random.sample(list(range(len(tokens_indices))), 97*len(tokens_indices)//100)\n",
    "    A.sort()\n",
    "    output = [\"\" for i in lines_of_tokens]\n",
    "    for a in A:\n",
    "        i, j = tokens_indices[a] \n",
    "        if str(lines_of_tokens[i][j]) != \"\\n\":\n",
    "            output[i] += (str(lines_of_tokens[i][j]) + ' ')\n",
    "        \n",
    "    return output"
   ]
  },
  {
   "cell_type": "code",
   "execution_count": 16,
   "metadata": {},
   "outputs": [],
   "source": [
    "lines1 = delete_random_words(lines_of_tokens, tokens_indices)\n",
    "lines2 = delete_random_words(lines_of_tokens, tokens_indices)"
   ]
  },
  {
   "cell_type": "markdown",
   "metadata": {},
   "source": [
    "Poniżej przedstawiono wynik funkcji *diff*. Symbol $<$ oznacza, że dana linia została usunięta z pierwszego pliku. Symbol $>$ oznacza, że linia została dodana w drugim pliku. Następnie prezentowany jest numer zmienionej linii, a na końcu sama linia."
   ]
  },
  {
   "cell_type": "code",
   "execution_count": 17,
   "metadata": {
    "scrolled": false
   },
   "outputs": [
    {
     "name": "stdout",
     "output_type": "stream",
     "text": [
      "< 15:   * MERKUCJO krewny księcia \n",
      "> 15:   * MERKUCJO — krewny księcia \n",
      "< 19:   * JAN — brat z tegoż zgromadzenia \n",
      "> 19:   * — brat z tegoż zgromadzenia \n",
      "< 22:   * ABRAHAM — służący Montekiego \n",
      "< 23:   * APTEKARZ \n",
      "< 24: * TRZECH MUZYKANTÓW \n",
      "> 22:   ABRAHAM — służący Montekiego \n",
      "> 23:   APTEKARZ \n",
      "> 24:   * TRZECH MUZYKANTÓW \n",
      "< 28:   * PANI MONTEKI — małżonka Montekiego \n",
      "> 28: * PANI MONTEKI — małżonka Montekiego \n",
      "< 37: Rzecz się przez większą część sztuki w Weronie, przez część piątego aktu w Mantui. \n",
      "> 37: Rzecz odbywa się przez większą część sztuki w Weronie, przez część piątego aktu w Mantui. \n",
      "< 46: Tam, gdzie się rzecz ta rozgrywa, Weronie, \n",
      "> 46: Tam, gdzie się rzecz rozgrywa, w Weronie, \n",
      "< 50: Z łon tych dwu wrogów wzięło życie, \n",
      "< 51: Pod najstraszliwszą z gwiazd, kochanków dwoje; \n",
      "> 50: Z łon tych dwu wrogów wzięło bowiem życie, \n",
      "> 51: Pod najstraszliwszą z gwiazd, dwoje; \n",
      "< 61: Jest w nim co złego, my usuniem błędy… \n",
      "> 61: Jest w nim co złego, usuniem błędy… \n",
      "< 77: Dalipan, Grzegorzu, nie będziem darli pierza. \n",
      "> 77: Dalipan, nie będziem darli pierza. \n",
      "< 87: Ale będziemy darli koty, jak z nami zadrą. \n",
      "> 87: Ale będziemy darli koty, jak z nami \n",
      "< 92: Kto zechce zadrzeć z nami, będzie zadrżeć. \n",
      "> 92: Kto zechce zadrzeć z nami, będzie musiał zadrżeć. \n",
      "< 97: Mam zwyczaj drapać zaraz, jak mię kto rozrucha. \n",
      "> 97: Mam drapać zaraz, jak mię kto rozrucha. \n",
      "< 107: psy z domu mię mogą bardzo łatwo. \n",
      "> 107: Te psy z domu rozruchać mię mogą bardzo łatwo. \n",
      "< 112: Rozruchać się tyle znaczy co ruszyć się z miejsca; być walecznym jest to stać nieporuszenie: pojmuję więc, że skutkiem rozruchania się twego będzie - drapnięcie. \n",
      "> 112: Rozruchać się tyle znaczy co ruszyć się z miejsca; być walecznym jest to stać nieporuszenie: pojmuję więc, że skutkiem rozruchania się twego będzie - \n",
      "< 117: Te psy z domu Montekich rozruchać mię tylko do stania na miejscu. Będę jak mur dla każdego mężczyzny i każdej kobiety z tego domu. \n",
      "> 117: Te psy z domu Montekich rozruchać mię mogą tylko do stania na miejscu. Będę jak mur dla każdego mężczyzny i każdej kobiety z tego domu. \n",
      "< 122: To właśnie pokazuje twoją słabą stronę; mur dla nikogo niestraszny i tylko słabi go się trzymają. \n",
      "> 122: To właśnie pokazuje twoją słabą mur dla nikogo niestraszny i tylko słabi go się trzymają. \n",
      "< 127: Prawda, dlatego to kobiety, jako najsłabsze, tulą się zawsze do muru. Ja też odtrącę od muru ludzi Montekich, a kobiety Montekich przyprę do muru. \n",
      "> 127: Prawda, dlatego to kobiety, jako najsłabsze, tulą się zawsze muru. Ja też odtrącę muru ludzi Montekich, a kobiety Montekich do muru. \n",
      "< 137: Mniejsza mi o to, będę Pobiwszy ludzi, wywrę wściekłość na kobietach: rzeź między nimi sprawię. \n",
      "> 137: Mniejsza mi to, będę nieubłagany. Pobiwszy ludzi, wywrę wściekłość na kobietach: rzeź między nimi sprawię. \n",
      "< 152: Tym lepiej, że się liczysz do zwierząt; bo gdybyś się liczył ryb, to byłbyś pewnie sztokfiszem. Weź no się za instrument, bo oto nadchodzi dwóch domowników Montekiego. \n",
      "> 152: Tym lepiej, że się liczysz do zwierząt; gdybyś się liczył do ryb, to byłbyś pewnie sztokfiszem. Weź no się za instrument, bo oto dwóch domowników Montekiego. \n",
      "< 154: / Wchodzą Abraham i Baltazar. / \n",
      "> 154: / Wchodzą i Baltazar. / \n",
      "< 159: Mój giwer już dobyty: ich, ja stanę z tyłu. \n",
      "> 159: Mój giwer już dobyty: zaczep ich, ja stanę z tyłu. \n",
      "> 162: GRZEGORZ \n",
      "< 163: \n",
      "< 184: Marsa im nastawię przechodząc; niech go sobie, jak chcą, tłumaczą. \n",
      "> 184: Marsa im nastawię przechodząc; niech go sobie, jak chcą, \n",
      "< 189: Nie jak chcą, ale jak Ja im gębę wykrzywię; hańba jeśli to ścierpią. \n",
      "> 189: Nie jak chcą, ale jak śmią. Ja im gębę wykrzywię; hańba im, jeśli to ścierpią. \n",
      "> 214: GRZEGORZ \n",
      "< 215: \n",
      "< 221: Nie, mości panie; nie skrzywiłem się na was, tylko skrzywiłem się tak sobie. \n",
      "> 221: mości panie; nie skrzywiłem się na was, tylko skrzywiłem się tak sobie. \n",
      "< 226: / do / \n",
      "> 226: / do Abrahama / \n",
      "< 228: Zaczepki waść szukasz? \n",
      "> 228: waść szukasz? \n",
      "< 238: Jeżeli jej szukasz, to jestem na waścine usługi. Mój pan tak dobry jak i wasz. \n",
      "> 238: Jeżeli jej szukasz, to jestem na waścine usługi. Mój pan tak dobry jak i \n",
      "< 253: GRZEGORZ \n",
      "< 255: / na stronie do Samsona / \n",
      "> 255: / na stronie do Samsona \n",
      "> 256: \n",
      "< 277: Odstąpcie, głupcy; schowajcie miecze do pochew. Sami nie wiecie, co robicie. \n",
      "> 277: Odstąpcie, głupcy; schowajcie miecze do pochew. Sami wiecie, co robicie. \n",
      "< 286: Cóż to? krzyżujesz oręż z parobkami? \n",
      "> 286: Cóż oręż z parobkami? \n",
      "< 293: Albo wraz ze mną rozdziel nim tych ludzi. \n",
      "> 293: Albo ze mną rozdziel nim tych ludzi. \n",
      "< 303: / Walczą. Nadchodzi kilku przyjaciół obu partii i mieszają się do zwady; wkrótce potem wchodzą mieszczanie z pałkami. / \n",
      "> 303: / Walczą. Nadchodzi kilku przyjaciół obu partii i mieszają się do zwady; wkrótce potem wchodzą mieszczanie z pałkami. \n",
      "< 308: Hola! berdyszów! pałek! Dalej po nich! \n",
      "> 308: Hola! pałek! Dalej po nich! \n",
      "< 320: PANI \n",
      "> 320: PANI KAPULET \n",
      "> 325: KAPULET \n",
      "< 326: \n",
      "< 328: I szydnie swoją klingą mi urąga. \n",
      "> 328: I szydnie swoją mi urąga. \n",
      "< 335: Ha! Kapulecie! \n",
      "> 335: Ha! nędzny Kapulecie! \n",
      "< 346: / Wchodzi Książę z orszakiem. / \n",
      "> 346: Wchodzi Książę z orszakiem. / \n",
      "< 351: Zapamiętali poddani, \n",
      "> 351: Zapamiętali niesforni poddani, \n",
      "< 354: Co wściekłych swoich gniewów żar gasicie \n",
      "< 355: W własnych żył swoich purpurowym; \n",
      "> 354: Co wściekłych swoich gniewów żar \n",
      "> 355: W własnych żył swoich źródle purpurowym; \n",
      "< 361: Przez was, Monteki oraz \n",
      "> 361: Przez was, Monteki oraz Kapulecie, \n",
      "< 363: Tak że poważni wiekiem i zasługą \n",
      "> 363: Tak że poważni i zasługą \n",
      "< 367: By zardzewiałym ostrzem zardzewiałe \n",
      "> 367: By zardzewiałym zardzewiałe \n",
      "< 370: Zamęt opłacicie życiem. \n",
      "> 370: Zamęt pokoju opłacicie życiem. \n",
      "< 372: Ty, pójdziesz ze mną razem; \n",
      "< 373: Ty zaś, przyjdziesz po południu \n",
      "> 372: Ty, Kapulecie, pójdziesz ze mną razem; \n",
      "> 373: zaś, Monteki, przyjdziesz po południu \n",
      "< 385: żeś tu wtedy, gdy się to zaczęło? \n",
      "> 385: Był żeś wtedy, się to zaczęło? \n",
      "< 390: Nieprzyjaciela naszego pachołcy \n",
      "< 391: I wasi już się bili, nadszedł; \n",
      "> 390: Nieprzyjaciela naszego \n",
      "> 391: I wasi już się bili, kiedym nadszedł; \n",
      "< 399: Większy tłum ludzi; z obu stron walczono, \n",
      "< 400: Aż książę nadszedł i rozdzielił wszystkich. \n",
      "> 399: Większy tłum ludzi; z obu walczono, \n",
      "> 400: Aż nadszedł i rozdzielił wszystkich. \n",
      "< 405: Lecz gdzież Romeo? Widział żeś go dzisiaj? \n",
      "> 405: Lecz gdzież Romeo? Widział go dzisiaj? \n",
      "< 412: W złotych się oknach wschodu ukazało, \n",
      "> 412: W się oknach wschodu ukazało, \n",
      "< 415: południowi od naszego miasta. \n",
      "> 415: Ku południowi od naszego miasta. \n",
      "< 420: Pociąg ten jego do odosobnienia \n",
      "< 421: Mierząc mym własnym (serce nasze bowiem \n",
      "> 420: Pociąg ten jego do \n",
      "> 421: Mierząc mym własnym (serce nasze \n",
      "< 423: Nie przeszkadzałem mu w jego dumaniach \n",
      "> 423: Nie przeszkadzałem w jego dumaniach \n",
      "< 431: Łzami poranną rosę, \n",
      "< 432: A — swego oblicza chmurami, \n",
      "> 431: Łzami poranną mnożącego rosę, \n",
      "> 432: A chmury — swego oblicza chmurami, \n",
      "< 434: Wesołe słońce sprzed łoża Aurory \n",
      "< 435: ściągać cienistą kotarę, \n",
      "> 434: Wesołe sprzed łoża Aurory \n",
      "> 435: Zaczęło ściągać cienistą kotarę, \n",
      "< 439: I sztuczną sobie ciemnicę utwarzał. \n",
      "> 439: I sztuczną sobie utwarzał. \n",
      "< 441: Jeśli na to lekarstwo nie znajdzie. \n",
      "> 441: Jeśli się na to lekarstwo nie znajdzie. \n",
      "< 469: Nie zbrakłoby nam zaradczego \n",
      "> 469: Nie zbrakłoby nam zaradczego środka. \n",
      "< 471: / Romeo ukazuje się w / \n",
      "> 471: / Romeo ukazuje się w głębi. / \n",
      "< 477: Wyrwę z piersi cierpienia tajone. \n",
      "> 477: mu z piersi cierpienia tajone. \n",
      "< 480: MONTEKI \n",
      "> 481: \n",
      "< 488: BENWOLIO \n",
      "< 490: Dzień dobry, \n",
      "> 490: Dzień dobry, bracie. \n",
      "> 492: \n",
      "< 507: Tak spiesznie w tamtą zboczyli ulicę? \n",
      "> 507: Tak w tamtą zboczyli \n",
      "< 510: BENWOLIO \n",
      "< 512: Tak jest. cóż tak chwile twoje dłuży? \n",
      "> 512: Tak jest. Lecz cóż tak twoje dłuży? \n",
      "> 514: \n",
      "< 532:                          Jak to? brak miłości? \n",
      "> 532:                          Jak to? brak \n",
      "< 537: Brak jej tam, skąd bym pragnął wzajemności. \n",
      "> 537: Brak jej tam, skąd bym wzajemności. \n",
      "< 549: Miłość na oślep zawsze swój goni! \n",
      "< 550: dziś jeść będziem? Ach! Był tu podobno \n",
      "< 551: Jakiś Nie mów mi o nim, wiem wszystko. \n",
      "> 549: Miłość na oślep zawsze cel swój goni! \n",
      "> 550: Gdzież dziś jeść będziem? Ach! Był tu podobno \n",
      "> 551: Jakiś spór? Nie mów mi o nim, wiem wszystko. \n",
      "< 554: Szorstka miłości! nienawiści tkliwa! \n",
      "> 554: Szorstka miłości! tkliwa! \n",
      "< 558: Jasna Zimny żarze! Martwy ruchu! \n",
      "> 558: Jasna mgło! Zimny żarze! Martwy ruchu! \n",
      "< 560: Taką niełączność moja miłość. \n",
      "> 560: niełączność łączy moja miłość. \n",
      "< 583: Miłości nawet odbitkę działa? \n",
      "> 583: Miłości nawet przez odbitkę działa? \n",
      "< 585: Brzemię powiększasz przewyżką twojego; \n",
      "> 585: powiększasz przewyżką twojego; \n",
      "< 592: Czymże więcej? Istnym amalgamem, \n",
      "> 592: Czymże jest więcej? Istnym amalgamem, \n",
      "< 601:                          krzywdę byś mi sprawił, \n",
      "< 602: Gdybyś mą przyjaźń z kwitkiem tak zostawił. \n",
      "> 601:                          Zaczekaj! krzywdę byś mi sprawił, \n",
      "> 602: Gdybyś mą z kwitkiem tak zostawił. \n",
      "< 608: To Romeo, co rozmawia z tobą. \n",
      "> 608: To nie Romeo, co rozmawia z tobą. \n",
      "< 613: Kogóż to kochasz? \n",
      "> 613: Kogóż to kochasz? mów! \n",
      "< 625: Tylko mi dać do tego problemu, \n",
      "> 625: Tylko mi klucz dać do tego problemu, \n",
      "< 633: Dobre dla tego, kto w tak złym stanie? \n",
      "> 633: Dobre dla tego, kto jest w tak stanie? \n",
      "< 651:                          W cel trafić najłatwiej. \n",
      "> 651:                          W piękny cel trafić najłatwiej. \n",
      "< 663: Bogata w wdzięki, w tym jedynie biedna, \n",
      "> 663: Bogata w wdzięki, w jedynie biedna, \n",
      "< 676: Bo piękność, którą własna srogość strawia, \n",
      "> 676: Bo piękność, własna srogość strawia, \n",
      "< 680: nigdy nie kochać i \n",
      "> 680: Przysięgła nigdy nie kochać i dzięki \n"
     ]
    }
   ],
   "source": [
    "LCS = diff(lines1, lines2)"
   ]
  },
  {
   "cell_type": "code",
   "execution_count": null,
   "metadata": {},
   "outputs": [],
   "source": []
  }
 ],
 "metadata": {
  "kernelspec": {
   "display_name": "Python 3",
   "language": "python",
   "name": "python3"
  },
  "language_info": {
   "codemirror_mode": {
    "name": "ipython",
    "version": 3
   },
   "file_extension": ".py",
   "mimetype": "text/x-python",
   "name": "python",
   "nbconvert_exporter": "python",
   "pygments_lexer": "ipython3",
   "version": "3.7.3"
  },
  "toc": {
   "base_numbering": 1,
   "nav_menu": {},
   "number_sections": true,
   "sideBar": true,
   "skip_h1_title": false,
   "title_cell": "Table of Contents",
   "title_sidebar": "Contents",
   "toc_cell": false,
   "toc_position": {},
   "toc_section_display": true,
   "toc_window_display": false
  },
  "varInspector": {
   "cols": {
    "lenName": 16,
    "lenType": 16,
    "lenVar": 40
   },
   "kernels_config": {
    "python": {
     "delete_cmd_postfix": "",
     "delete_cmd_prefix": "del ",
     "library": "var_list.py",
     "varRefreshCmd": "print(var_dic_list())"
    },
    "r": {
     "delete_cmd_postfix": ") ",
     "delete_cmd_prefix": "rm(",
     "library": "var_list.r",
     "varRefreshCmd": "cat(var_dic_list()) "
    }
   },
   "types_to_exclude": [
    "module",
    "function",
    "builtin_function_or_method",
    "instance",
    "_Feature"
   ],
   "window_display": false
  }
 },
 "nbformat": 4,
 "nbformat_minor": 2
}
