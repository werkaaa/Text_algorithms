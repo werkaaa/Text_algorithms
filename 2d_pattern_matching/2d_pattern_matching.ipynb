{
 "cells": [
  {
   "cell_type": "markdown",
   "metadata": {},
   "source": [
    "# Wyszukiwanie wzorca 2D"
   ]
  },
  {
   "cell_type": "code",
   "execution_count": 1,
   "metadata": {},
   "outputs": [],
   "source": [
    "import queue\n",
    "import numpy as np\n",
    "import matplotlib.pyplot as plt\n",
    "from PIL import Image\n",
    "from collections import Counter"
   ]
  },
  {
   "cell_type": "markdown",
   "metadata": {},
   "source": [
    "## Implementacja automatu Aho-Corasick dla wzorca dwuwymiarowego"
   ]
  },
  {
   "cell_type": "markdown",
   "metadata": {},
   "source": [
    "Automat został zbudowany w oparciu o stany definiowane przez węzły trie kolumn wzorca. Dla danych 2D automat kolumnami buduje tablicę stanów. Następnie w tej tablicy stanów, również przy pomocy automatu wyszukiwany jest wzorzec stanów terminalnych odpowiadający kolumnom wzorca."
   ]
  },
  {
   "cell_type": "code",
   "execution_count": 2,
   "metadata": {},
   "outputs": [],
   "source": [
    "class Node():\n",
    "    \n",
    "    def __init__(self, letter, parent = None, terminal=False):\n",
    "        self.letter = letter\n",
    "        self.children = []\n",
    "        self.parent = parent\n",
    "        self.terminal = terminal\n",
    "        self.number = None\n",
    "    \n",
    "    def create_child(self, letter):\n",
    "        child = Node(letter, parent = self)\n",
    "        self.children.append(child)\n",
    "        return child\n",
    "    \n",
    "    def child(self, letter):\n",
    "        children_ = {self.children[i].letter: i for i in range(len(self.children))}\n",
    "        if not letter in children_.keys():\n",
    "            return None\n",
    "        return self.children[children_[letter]]\n",
    "    \n",
    "    def __str__(self):\n",
    "        return f'letter: {self.letter}\\nchildren: {len(self.children)}\\nterminal: {self.terminal}\\n'\n",
    "    \n",
    "    def __repr__(self):\n",
    "        return self.__str__()\n",
    "    \n",
    "    def get_graph(self, G):\n",
    "        for child in self.children:\n",
    "            G.add_edge(id(self), id(child))\n",
    "            child.get_graph(G)\n",
    "               \n",
    "class Trie():\n",
    "    def __init__(self, term_char='$'):\n",
    "        self.term_char = term_char\n",
    "        self.root = Node(' ')\n",
    "        \n",
    "        self.number_iter = None\n",
    "        self.state_map = {}\n",
    "        \n",
    "    def add_suffix(self, text):\n",
    "        node = self.root\n",
    "        i = 0\n",
    "        while i < len(text):\n",
    "            child = node.child(text[i])\n",
    "            if child:\n",
    "                node = child\n",
    "            else:\n",
    "                break\n",
    "            i+=1\n",
    "        \n",
    "        while i <len(text):\n",
    "            node = node.create_child(text[i])\n",
    "            i+=1\n",
    "        \n",
    "        node.terminal = True\n",
    "            \n",
    "    def construct(self, patterns):\n",
    "        for pattern in patterns:\n",
    "            self.add_suffix(pattern)\n",
    "               \n",
    "    def number_nodes(self):\n",
    "        self.number_iter = 0\n",
    "       \n",
    "        q = queue.Queue()\n",
    "        q.put(self.root)\n",
    "        while not q.empty():\n",
    "            node = q.get()\n",
    "            for child in node.children:\n",
    "                q.put(child)\n",
    "            node.number = self.number_iter\n",
    "            self.state_map[self.number_iter] = node\n",
    "            self.number_iter += 1\n",
    "        "
   ]
  },
  {
   "cell_type": "code",
   "execution_count": 3,
   "metadata": {},
   "outputs": [],
   "source": [
    "def build_SMA(alphabet, patterns):\n",
    "    trie = Trie()\n",
    "    trie.construct(patterns)\n",
    "    trie.number_nodes()\n",
    "    terminal_states = []\n",
    "    delta = [{} for i in range(trie.number_iter)]\n",
    "    if trie.root.terminal:\n",
    "        terminal_states.append(trie.root)\n",
    "        \n",
    "    for letter in alphabet:\n",
    "        delta[0][letter] = 0\n",
    "        \n",
    "    for state in range(1, len(trie.state_map)):\n",
    "        t = trie.state_map[state].parent\n",
    "        a = trie.state_map[state].letter\n",
    "        temp = delta[t.number][a]\n",
    "        delta[t.number][a] = state\n",
    "        \n",
    "        if trie.state_map[temp].terminal or trie.state_map[state].terminal:\n",
    "            terminal_states.append(state)\n",
    "            \n",
    "        for letter in alphabet:\n",
    "            delta[state][letter] = delta[temp][letter]\n",
    "            \n",
    "        for child in trie.state_map[temp].children:\n",
    "            delta[state][child.letter] = child.number\n",
    "            \n",
    "    order = []\n",
    "    for pattern in patterns:\n",
    "        order.append(get_automata_steps(pattern, delta)[-1])\n",
    "        \n",
    "    small_delta, small_terminal = build_small_SMA(np.arange(len(delta)), np.array(order))\n",
    "            \n",
    "    return delta, terminal_states, small_delta, small_terminal\n",
    "\n",
    "def build_small_SMA(alphabet, pattern):\n",
    "    delta = [{}]\n",
    "    for letter in alphabet:\n",
    "        delta[0][letter] = 0\n",
    "    terminal = 0\n",
    "    for pattern_letter in pattern:\n",
    "        temp = delta[terminal][pattern_letter]\n",
    "        delta.append({})\n",
    "        delta[terminal][pattern_letter] = terminal + 1\n",
    "        terminal = terminal +1\n",
    "        for letter in alphabet:\n",
    "            delta[terminal][letter] = delta[temp][letter]\n",
    "            \n",
    "    return delta, terminal\n",
    "\n",
    "def get_automata_steps(text_line, delta):\n",
    "    output = []\n",
    "    state = 0\n",
    "    for letter in text_line:\n",
    "        state = delta[state][letter]\n",
    "        output.append(state)\n",
    "\n",
    "    return np.array(output)\n",
    "        \n",
    "        \n",
    "def apply_automata(text, delta):\n",
    "    rows, columns = text.shape\n",
    "    state_array = []\n",
    "    \n",
    "    for c in range(columns):\n",
    "        state_array.append(get_automata_steps(text[:,c], delta))\n",
    "        \n",
    "    return np.array(state_array).T\n",
    "\n",
    "def naive(text, pattern):\n",
    "    ans = []\n",
    "    m = len(pattern)\n",
    "    n = len(text)\n",
    "    for i in range(n-m+1):\n",
    "        if np.array_equal(text[i:i+m], pattern):\n",
    "            ans.append(i)\n",
    "    return ans    \n",
    "    \n",
    "def find_pattern(text, pattern, delta, small_delta, terminal):\n",
    "\n",
    "    locations = []\n",
    "    pattern_array = apply_automata(text, delta)\n",
    "\n",
    "    for row_id in range(len(pattern_array)):\n",
    "        state = 0\n",
    "        for col_id in range(len(pattern_array[row_id])):\n",
    "            state = small_delta[state][pattern_array[row_id][col_id]]\n",
    "            if state == terminal:\n",
    "                locations.append((row_id, col_id))\n",
    "    \n",
    "    return locations\n",
    "    "
   ]
  },
  {
   "cell_type": "code",
   "execution_count": 4,
   "metadata": {},
   "outputs": [
    {
     "data": {
      "text/plain": [
       "[(3, 3), (4, 5), (5, 2)]"
      ]
     },
     "execution_count": 4,
     "metadata": {},
     "output_type": "execute_result"
    }
   ],
   "source": [
    "toy_example_pattern = np.array([['a', 'a', 'a'],\n",
    "                                ['b', 'b', 'a'],\n",
    "                                ['a', 'a', 'b']])\n",
    "\n",
    "toy_example_text = np.array([['a', 'b', 'a', 'b', 'a', 'b', 'b'],\n",
    "                             ['a', 'a', 'a', 'a', 'b', 'b', 'b'],\n",
    "                             ['b', 'b', 'b', 'a', 'a', 'a', 'b'],\n",
    "                             ['a', 'a', 'a', 'b', 'b', 'a', 'a'],\n",
    "                             ['b', 'b', 'a', 'a', 'a', 'b', 'b'],\n",
    "                             ['a', 'a', 'b', 'a', 'a', 'a', 'a']])\n",
    "\n",
    "delta, T, small_delta, small_terminal = build_SMA('ab', ['aba', 'aba', 'aab'])\n",
    "\n",
    "find_pattern(toy_example_text, toy_example_pattern, delta, small_delta, small_terminal)"
   ]
  },
  {
   "cell_type": "markdown",
   "metadata": {},
   "source": [
    "## Testowanie działania"
   ]
  },
  {
   "cell_type": "markdown",
   "metadata": {},
   "source": [
    "### Szukanie wzorca w tekście"
   ]
  },
  {
   "cell_type": "code",
   "execution_count": 5,
   "metadata": {},
   "outputs": [],
   "source": [
    "with open('haystack.txt') as f:\n",
    "    data = f.read()\n",
    "\n",
    "data = np.array([list(line) for line in data.split('\\n')])\n",
    "lens = np.array([len(i) for i in data])\n",
    "mask = np.arange(lens.max()) < lens[:,None]\n",
    "text = np.full(mask.shape, '_')\n",
    "text[mask] = np.concatenate(data)\n",
    "\n",
    "alphabet = np.unique(text)"
   ]
  },
  {
   "cell_type": "code",
   "execution_count": 6,
   "metadata": {},
   "outputs": [],
   "source": [
    "def show_findings(alphabet, text, pattern, where=True):\n",
    "    delta, T, small_delta, small_terminal = build_SMA(alphabet, [pattern[:, c] for c in range(pattern.shape[1])])\n",
    "    positions = find_pattern(text, pattern, delta, small_delta, small_terminal)\n",
    "    if len(positions)>0:\n",
    "        if where:\n",
    "            print(f'Pattern: \\n{pattern}\\nwas found here:\\n{positions}\\nThats {len(positions)} times')\n",
    "        else:\n",
    "            print(f'Pattern: \\n{pattern}\\nwas found {len(positions)} times')\n",
    "        print('--------------')\n",
    "    else:\n",
    "        print(f'Pattern: \\n{pattern}\\nnotfound')\n",
    "        print('--------------')"
   ]
  },
  {
   "cell_type": "markdown",
   "metadata": {},
   "source": [
    "#### Wzorce typu jedna litera w dwóch kolejnych wierszach na tym samym miejscu"
   ]
  },
  {
   "cell_type": "code",
   "execution_count": 7,
   "metadata": {
    "scrolled": false
   },
   "outputs": [
    {
     "name": "stdout",
     "output_type": "stream",
     "text": [
      "Pattern: \n",
      "[[' ']\n",
      " [' ']]\n",
      "was found here:\n",
      "[(1, 10), (1, 27), (1, 58), (1, 73), (2, 2), (2, 10), (2, 34), (3, 2), (4, 41), (4, 44), (5, 7), (5, 64), (6, 7), (6, 9), (6, 45), (7, 45), (9, 25), (10, 48), (11, 7), (11, 11), (14, 60), (15, 58), (16, 11), (16, 58), (19, 32), (20, 3), (21, 3), (21, 11), (21, 39), (21, 51), (21, 76), (22, 49), (22, 51), (22, 59), (22, 69), (23, 13), (23, 20), (23, 22), (23, 30), (23, 42), (23, 77), (24, 20), (24, 24), (24, 38), (24, 58), (24, 60), (25, 8), (25, 16), (25, 20), (25, 24), (25, 44), (25, 63), (28, 1), (28, 3), (28, 5), (29, 3), (29, 66), (31, 23), (31, 29), (31, 51), (31, 57), (32, 15), (32, 55), (33, 15), (33, 17), (33, 19), (33, 72), (34, 8), (34, 44), (35, 69), (36, 33), (36, 64), (38, 1), (38, 3), (38, 5), (38, 7), (38, 26), (38, 63), (39, 7), (41, 8), (41, 15), (41, 46), (41, 69), (42, 15), (42, 33), (42, 62), (43, 33), (43, 68), (44, 35), (45, 13), (45, 35), (45, 61), (46, 20), (46, 32), (47, 12), (47, 32), (47, 58), (47, 75), (48, 23), (48, 26), (49, 23), (49, 35), (49, 55), (49, 59), (52, 21), (53, 10), (54, 29), (54, 62), (55, 32), (55, 34), (55, 36), (55, 46), (56, 8), (57, 21), (57, 29), (57, 42), (58, 7), (58, 12), (58, 33), (59, 20), (59, 43), (59, 67), (60, 2), (60, 14), (60, 52), (61, 2), (61, 18), (61, 48), (61, 52), (61, 60), (61, 76), (62, 15), (62, 60), (63, 1), (63, 29), (63, 51), (63, 60), (64, 13), (64, 31), (64, 48), (64, 57), (69, 16), (69, 44), (70, 16), (70, 62), (71, 26), (71, 59), (71, 62), (72, 32), (72, 40), (77, 24), (79, 46), (80, 26), (80, 29), (81, 22), (81, 63), (82, 27), (82, 50)]\n",
      "Thats 158 times\n",
      "--------------\n",
      "Pattern: \n",
      "[['\"']\n",
      " ['\"']]\n",
      "notfound\n",
      "--------------\n",
      "Pattern: \n",
      "[['(']\n",
      " ['(']]\n",
      "notfound\n",
      "--------------\n",
      "Pattern: \n",
      "[[')']\n",
      " [')']]\n",
      "notfound\n",
      "--------------\n",
      "Pattern: \n",
      "[[',']\n",
      " [',']]\n",
      "notfound\n",
      "--------------\n",
      "Pattern: \n",
      "[['-']\n",
      " ['-']]\n",
      "notfound\n",
      "--------------\n",
      "Pattern: \n",
      "[['.']\n",
      " ['.']]\n",
      "notfound\n",
      "--------------\n",
      "Pattern: \n",
      "[['0']\n",
      " ['0']]\n",
      "notfound\n",
      "--------------\n",
      "Pattern: \n",
      "[['1']\n",
      " ['1']]\n",
      "notfound\n",
      "--------------\n",
      "Pattern: \n",
      "[['3']\n",
      " ['3']]\n",
      "notfound\n",
      "--------------\n",
      "Pattern: \n",
      "[['5']\n",
      " ['5']]\n",
      "notfound\n",
      "--------------\n",
      "Pattern: \n",
      "[['6']\n",
      " ['6']]\n",
      "notfound\n",
      "--------------\n",
      "Pattern: \n",
      "[['7']\n",
      " ['7']]\n",
      "notfound\n",
      "--------------\n",
      "Pattern: \n",
      "[[':']\n",
      " [':']]\n",
      "notfound\n",
      "--------------\n",
      "Pattern: \n",
      "[[';']\n",
      " [';']]\n",
      "notfound\n",
      "--------------\n",
      "Pattern: \n",
      "[['A']\n",
      " ['A']]\n",
      "notfound\n",
      "--------------\n",
      "Pattern: \n",
      "[['B']\n",
      " ['B']]\n",
      "notfound\n",
      "--------------\n",
      "Pattern: \n",
      "[['C']\n",
      " ['C']]\n",
      "notfound\n",
      "--------------\n",
      "Pattern: \n",
      "[['D']\n",
      " ['D']]\n",
      "notfound\n",
      "--------------\n",
      "Pattern: \n",
      "[['E']\n",
      " ['E']]\n",
      "notfound\n",
      "--------------\n",
      "Pattern: \n",
      "[['F']\n",
      " ['F']]\n",
      "notfound\n",
      "--------------\n",
      "Pattern: \n",
      "[['G']\n",
      " ['G']]\n",
      "notfound\n",
      "--------------\n",
      "Pattern: \n",
      "[['I']\n",
      " ['I']]\n",
      "notfound\n",
      "--------------\n",
      "Pattern: \n",
      "[['L']\n",
      " ['L']]\n",
      "notfound\n",
      "--------------\n",
      "Pattern: \n",
      "[['M']\n",
      " ['M']]\n",
      "notfound\n",
      "--------------\n",
      "Pattern: \n",
      "[['N']\n",
      " ['N']]\n",
      "notfound\n",
      "--------------\n",
      "Pattern: \n",
      "[['O']\n",
      " ['O']]\n",
      "notfound\n",
      "--------------\n",
      "Pattern: \n",
      "[['P']\n",
      " ['P']]\n",
      "notfound\n",
      "--------------\n",
      "Pattern: \n",
      "[['Q']\n",
      " ['Q']]\n",
      "notfound\n",
      "--------------\n",
      "Pattern: \n",
      "[['R']\n",
      " ['R']]\n",
      "notfound\n",
      "--------------\n",
      "Pattern: \n",
      "[['S']\n",
      " ['S']]\n",
      "notfound\n",
      "--------------\n",
      "Pattern: \n",
      "[['T']\n",
      " ['T']]\n",
      "notfound\n",
      "--------------\n",
      "Pattern: \n",
      "[['U']\n",
      " ['U']]\n",
      "notfound\n",
      "--------------\n",
      "Pattern: \n",
      "[['V']\n",
      " ['V']]\n",
      "notfound\n",
      "--------------\n",
      "Pattern: \n",
      "[['W']\n",
      " ['W']]\n",
      "notfound\n",
      "--------------\n",
      "Pattern: \n",
      "[['X']\n",
      " ['X']]\n",
      "notfound\n",
      "--------------\n",
      "Pattern: \n",
      "[['a']\n",
      " ['a']]\n",
      "was found here:\n",
      "[(1, 82), (4, 30), (6, 60), (7, 63), (21, 6), (29, 69), (32, 50), (32, 73), (34, 66), (38, 4), (53, 12), (54, 12), (54, 48), (57, 11), (58, 36), (59, 36), (60, 24), (65, 2), (65, 14), (65, 22), (66, 35), (70, 35), (77, 21), (77, 74), (78, 42), (78, 61), (79, 59), (80, 37)]\n",
      "Thats 28 times\n",
      "--------------\n",
      "Pattern: \n",
      "[['b']\n",
      " ['b']]\n",
      "notfound\n",
      "--------------\n",
      "Pattern: \n",
      "[['c']\n",
      " ['c']]\n",
      "was found here:\n",
      "[(4, 54), (11, 45), (14, 10), (42, 0), (69, 0), (83, 41)]\n",
      "Thats 6 times\n",
      "--------------\n",
      "Pattern: \n",
      "[['d']\n",
      " ['d']]\n",
      "was found here:\n",
      "[(38, 19)]\n",
      "Thats 1 times\n",
      "--------------\n",
      "Pattern: \n",
      "[['e']\n",
      " ['e']]\n",
      "was found here:\n",
      "[(1, 63), (2, 8), (5, 77), (8, 65), (11, 1), (11, 64), (15, 2), (16, 43), (18, 6), (19, 27), (21, 10), (22, 61), (23, 53), (25, 3), (25, 65), (29, 67), (29, 73), (30, 38), (30, 43), (38, 48), (41, 11), (41, 26), (42, 57), (43, 36), (43, 48), (47, 52), (48, 50), (52, 31), (58, 54), (59, 50), (59, 54), (60, 73), (64, 66), (66, 69), (67, 72), (68, 17), (69, 46), (70, 15), (71, 49), (72, 38), (73, 23), (74, 27), (77, 6), (78, 6), (79, 65), (81, 6), (82, 14), (83, 47)]\n",
      "Thats 48 times\n",
      "--------------\n",
      "Pattern: \n",
      "[['f']\n",
      " ['f']]\n",
      "was found here:\n",
      "[(31, 59), (78, 1)]\n",
      "Thats 2 times\n",
      "--------------\n",
      "Pattern: \n",
      "[['g']\n",
      " ['g']]\n",
      "notfound\n",
      "--------------\n",
      "Pattern: \n",
      "[['h']\n",
      " ['h']]\n",
      "was found here:\n",
      "[(28, 2), (38, 2), (57, 31), (74, 12)]\n",
      "Thats 4 times\n",
      "--------------\n",
      "Pattern: \n",
      "[['i']\n",
      " ['i']]\n",
      "was found here:\n",
      "[(2, 5), (9, 37), (10, 60), (20, 55), (32, 0), (32, 31), (45, 33), (53, 69), (56, 17), (61, 45), (69, 51), (74, 13), (78, 13)]\n",
      "Thats 13 times\n",
      "--------------\n",
      "Pattern: \n",
      "[['j']\n",
      " ['j']]\n",
      "notfound\n",
      "--------------\n",
      "Pattern: \n",
      "[['k']\n",
      " ['k']]\n",
      "notfound\n",
      "--------------\n",
      "Pattern: \n",
      "[['l']\n",
      " ['l']]\n",
      "was found here:\n",
      "[(29, 72), (34, 45), (42, 77), (47, 61), (54, 45)]\n",
      "Thats 5 times\n",
      "--------------\n",
      "Pattern: \n",
      "[['m']\n",
      " ['m']]\n",
      "was found here:\n",
      "[(17, 5), (29, 70), (35, 40), (35, 60), (45, 0)]\n",
      "Thats 5 times\n",
      "--------------\n",
      "Pattern: \n",
      "[['n']\n",
      " ['n']]\n",
      "was found here:\n",
      "[(1, 83), (2, 9), (15, 54), (20, 37), (21, 56), (22, 62), (32, 1), (36, 18), (52, 32), (55, 33), (57, 13), (65, 29), (68, 35), (68, 40), (68, 57)]\n",
      "Thats 15 times\n",
      "--------------\n",
      "Pattern: \n",
      "[['o']\n",
      " ['o']]\n",
      "was found here:\n",
      "[(5, 75), (6, 66), (7, 38), (8, 38), (11, 27), (16, 60), (28, 17), (29, 17), (31, 58), (33, 34), (34, 11), (34, 26), (42, 1), (45, 55), (51, 2), (53, 8), (54, 1), (59, 45), (72, 42), (80, 10), (82, 52)]\n",
      "Thats 21 times\n",
      "--------------\n",
      "Pattern: \n",
      "[['p']\n",
      " ['p']]\n",
      "was found here:\n",
      "[(29, 71), (42, 18)]\n",
      "Thats 2 times\n",
      "--------------\n",
      "Pattern: \n",
      "[['q']\n",
      " ['q']]\n",
      "notfound\n",
      "--------------\n",
      "Pattern: \n",
      "[['r']\n",
      " ['r']]\n",
      "was found here:\n",
      "[(2, 4), (7, 39), (7, 50), (8, 13), (16, 18), (18, 14), (20, 54), (21, 54), (29, 65), (32, 70), (34, 10), (34, 37), (44, 25), (47, 42), (48, 37), (53, 5), (56, 40), (61, 30), (63, 39), (68, 29), (70, 22)]\n",
      "Thats 21 times\n",
      "--------------\n",
      "Pattern: \n",
      "[['s']\n",
      " ['s']]\n",
      "was found here:\n",
      "[(4, 57), (4, 63), (5, 49), (9, 21), (10, 58), (29, 45), (30, 56), (31, 56), (38, 34), (41, 63), (46, 34), (47, 44), (50, 14), (53, 53), (55, 0), (68, 37), (71, 41), (72, 24), (80, 24)]\n",
      "Thats 19 times\n",
      "--------------\n",
      "Pattern: \n",
      "[['t']\n",
      " ['t']]\n",
      "was found here:\n",
      "[(1, 7), (2, 6), (2, 7), (4, 37), (5, 14), (5, 23), (8, 29), (9, 75), (14, 55), (16, 12), (17, 3), (20, 33), (23, 8), (24, 4), (25, 4), (28, 31), (29, 23), (29, 52), (31, 16), (36, 10), (38, 0), (42, 45), (42, 73), (47, 24), (51, 0), (52, 33), (53, 61), (55, 11), (56, 54), (59, 49), (59, 78), (60, 33), (60, 75), (62, 56), (68, 71), (70, 5), (72, 3), (73, 3), (73, 10), (73, 59), (78, 22)]\n",
      "Thats 41 times\n",
      "--------------\n",
      "Pattern: \n",
      "[['u']\n",
      " ['u']]\n",
      "notfound\n",
      "--------------\n",
      "Pattern: \n",
      "[['v']\n",
      " ['v']]\n",
      "notfound\n",
      "--------------\n",
      "Pattern: \n",
      "[['w']\n",
      " ['w']]\n",
      "was found here:\n",
      "[(2, 3), (22, 70)]\n",
      "Thats 2 times\n",
      "--------------\n",
      "Pattern: \n",
      "[['x']\n",
      " ['x']]\n",
      "was found here:\n",
      "[(29, 68)]\n",
      "Thats 1 times\n",
      "--------------\n",
      "Pattern: \n",
      "[['y']\n",
      " ['y']]\n",
      "was found here:\n",
      "[(45, 5)]\n",
      "Thats 1 times\n",
      "--------------\n",
      "Pattern: \n",
      "[['z']\n",
      " ['z']]\n",
      "notfound\n",
      "--------------\n"
     ]
    }
   ],
   "source": [
    "one_letter_patterns = [np.array([[letter], [letter]]) for letter in alphabet if not letter=='_' ]\n",
    "\n",
    "for pattern in one_letter_patterns:\n",
    "    show_findings(alphabet, text, pattern)"
   ]
  },
  {
   "cell_type": "markdown",
   "metadata": {},
   "source": [
    "#### Wzorce typu 'th' i 't h' w dwóch kolejnych wierszach na tym samym miejscu"
   ]
  },
  {
   "cell_type": "code",
   "execution_count": 8,
   "metadata": {},
   "outputs": [
    {
     "name": "stdout",
     "output_type": "stream",
     "text": [
      "Pattern: \n",
      "[['t' 'h']\n",
      " ['t' 'h']]\n",
      "notfound\n",
      "--------------\n",
      "Pattern: \n",
      "[['t' ' ' 'h']\n",
      " ['t' ' ' 'h']]\n",
      "was found here:\n",
      "[(38, 2)]\n",
      "Thats 1 times\n",
      "--------------\n"
     ]
    }
   ],
   "source": [
    "th_pattern = np.array([['t', 'h'], ['t', 'h']])\n",
    "t_h_pattern = np.array([['t', ' ', 'h'], ['t', ' ', 'h']])\n",
    "\n",
    "show_findings(alphabet, text, th_pattern)\n",
    "show_findings(alphabet, text, t_h_pattern)"
   ]
  },
  {
   "cell_type": "markdown",
   "metadata": {},
   "source": [
    "### Szukanie wzorca w obrazie"
   ]
  },
  {
   "cell_type": "markdown",
   "metadata": {},
   "source": [
    "#### Pojedyńcze litery"
   ]
  },
  {
   "cell_type": "code",
   "execution_count": 9,
   "metadata": {},
   "outputs": [
    {
     "data": {
      "image/png": "[encoded data removed]",
      "text/plain": [
       "<Figure size 1440x720 with 5 Axes>"
      ]
     },
     "metadata": {
      "needs_background": "light"
     },
     "output_type": "display_data"
    }
   ],
   "source": [
    "data = np.array(Image.open('haystack.png').convert('L'))\n",
    "alphabet = np.unique(data)\n",
    "\n",
    "n_pattern = data[36:47,40:49] #339\n",
    "e_pattern = data[37:47,51:60] #\n",
    "l_pattern = data[32:48,169:172]\n",
    "o_pattern = data[59:69,26:35] #398\n",
    "a_pattern = data[103:113,56:65] #397\n",
    "\n",
    "fig, ax = plt.subplots(1, 5, figsize=(20, 10))\n",
    "ax[0].imshow(n_pattern)\n",
    "ax[1].imshow(e_pattern)\n",
    "ax[2].imshow(l_pattern)\n",
    "ax[3].imshow(o_pattern)\n",
    "ax[4].imshow(a_pattern)\n",
    "\n",
    "#print(f'Alphabet: {alphabet}')\n",
    "in_text = Counter(text.flatten().tolist()) #to check correctness"
   ]
  },
  {
   "cell_type": "code",
   "execution_count": 10,
   "metadata": {},
   "outputs": [
    {
     "name": "stdout",
     "output_type": "stream",
     "text": [
      "Pattern: \n",
      "[[255 255 255 255 255 255 255 255 255]\n",
      " [163   0 187 162  40   6  39 166 255]\n",
      " [163   0  92   0   0   0   0   1 192]\n",
      " [163   0   5 145 232 239 132   0  89]\n",
      " [163   0 118 255 255 255 255  34  44]\n",
      " [163   0 179 255 255 255 255  66  32]\n",
      " [163   0 187 255 255 255 255  67  31]\n",
      " [163   0 187 255 255 255 255  67  31]\n",
      " [163   0 187 255 255 255 255  67  31]\n",
      " [163   0 187 255 255 255 255  67  31]\n",
      " [163   0 187 255 255 255 255  67  31]]\n",
      "was found 339 times\n",
      "--------------\n",
      "It appeared in the text 339 times\n"
     ]
    }
   ],
   "source": [
    "show_findings(alphabet, data, n_pattern, where=False)\n",
    "print(f'It appeared in the text {in_text[\"n\"]} times')"
   ]
  },
  {
   "cell_type": "code",
   "execution_count": 11,
   "metadata": {},
   "outputs": [
    {
     "name": "stdout",
     "output_type": "stream",
     "text": [
      "Pattern: \n",
      "[[255 248 133  42   7  17  81 214 255]\n",
      " [250  64   0   0   0   0   0  15 216]\n",
      " [141   0  74 203 245 233 141   3  80]\n",
      " [ 50  25 251 255 255 255 255  94   9]\n",
      " [  9   0   0   0   0   0   0   0   0]\n",
      " [  8   0   0   0   0   0   0   0   0]\n",
      " [ 46  35 253 255 255 255 255 255 255]\n",
      " [139   0  79 198 240 244 210 136  97]\n",
      " [250  70   0   0   0   0   0   0  67]\n",
      " [255 251 145  51  10  14  48 122 226]]\n",
      "was found 576 times\n",
      "--------------\n",
      "It appeared in the text 583 times\n"
     ]
    }
   ],
   "source": [
    "show_findings(alphabet, data, e_pattern, where=False)\n",
    "print(f'It appeared in the text {in_text[\"e\"]} times')"
   ]
  },
  {
   "cell_type": "code",
   "execution_count": 12,
   "metadata": {},
   "outputs": [
    {
     "name": "stdout",
     "output_type": "stream",
     "text": [
      "Pattern: \n",
      "[[255 255 255]\n",
      " [179   0 175]\n",
      " [179   0 175]\n",
      " [179   0 175]\n",
      " [179   0 175]\n",
      " [179   0 175]\n",
      " [179   0 175]\n",
      " [179   0 175]\n",
      " [179   0 175]\n",
      " [179   0 175]\n",
      " [179   0 175]\n",
      " [179   0 175]\n",
      " [179   0 175]\n",
      " [179   0 175]\n",
      " [179   0 175]\n",
      " [255 255 255]]\n",
      "was found 173 times\n",
      "--------------\n",
      "It appeared in the text 175 times\n"
     ]
    }
   ],
   "source": [
    "show_findings(alphabet, data, l_pattern, where=False)\n",
    "print(f'It appeared in the text {in_text[\"l\"]} times')"
   ]
  },
  {
   "cell_type": "code",
   "execution_count": 13,
   "metadata": {},
   "outputs": [
    {
     "name": "stdout",
     "output_type": "stream",
     "text": [
      "Pattern: \n",
      "[[255 235 106  28   5  27 104 234 255]\n",
      " [240  37   0   0   0   0   0  35 239]\n",
      " [122   0  54 202 244 203  55   0 116]\n",
      " [ 41  10 231 255 255 255 231  11  35]\n",
      " [  8  56 255 255 255 255 255  59   3]\n",
      " [  8  57 255 255 255 255 255  59   3]\n",
      " [ 41  10 231 255 255 255 232  11  35]\n",
      " [121   0  57 204 245 205  57   0 115]\n",
      " [240  37   0   0   0   0   0  35 238]\n",
      " [255 234 105  27   4  26 103 233 255]]\n",
      "was found 369 times\n",
      "--------------\n",
      "It appeared in the text 369 times\n"
     ]
    }
   ],
   "source": [
    "show_findings(alphabet, data, o_pattern, where=False)\n",
    "print(f'It appeared in the text {in_text[\"o\"]} times')"
   ]
  },
  {
   "cell_type": "code",
   "execution_count": 14,
   "metadata": {},
   "outputs": [
    {
     "name": "stdout",
     "output_type": "stream",
     "text": [
      "Pattern: \n",
      "[[253 177  74  25   8  45 149 255 255]\n",
      " [203   0   0   0   0   0   0 129 255]\n",
      " [206  87 193 236 241 186  35  10 242]\n",
      " [255 255 255 255 255 255 175   0 188]\n",
      " [255 159  60  16   1   0   0   0 162]\n",
      " [138   0   0   0   0   0   0   0 155]\n",
      " [ 38  23 189 238 252 255 177   0 155]\n",
      " [ 38  27 201 249 238 178  31   0 155]\n",
      " [120   0   0   0   0   0  89   0 155]\n",
      " [249 123  31   7  41 152 199   0 155]]\n",
      "was found 397 times\n",
      "--------------\n",
      "It appeared in the text 397 times\n"
     ]
    }
   ],
   "source": [
    "show_findings(alphabet, data, a_pattern, where=False)\n",
    "print(f'It appeared in the text {in_text[\"a\"]} times')"
   ]
  },
  {
   "cell_type": "markdown",
   "metadata": {},
   "source": [
    "#### Wzorzec 'p a t t e r n'"
   ]
  },
  {
   "cell_type": "code",
   "execution_count": 15,
   "metadata": {},
   "outputs": [
    {
     "data": {
      "text/plain": [
       "<matplotlib.image.AxesImage at 0x7f34a7e9c2e8>"
      ]
     },
     "execution_count": 15,
     "metadata": {},
     "output_type": "execute_result"
    },
    {
     "data": {
      "image/png": "[encoded data removed]",
      "text/plain": [
       "<Figure size 1440x720 with 1 Axes>"
      ]
     },
     "metadata": {
      "needs_background": "light"
     },
     "output_type": "display_data"
    }
   ],
   "source": [
    "pattern_pattern = data[627:646,247:348]\n",
    "fig, ax = plt.subplots(1, 1, figsize=(20, 10))\n",
    "ax.imshow(pattern_pattern)"
   ]
  },
  {
   "cell_type": "code",
   "execution_count": 16,
   "metadata": {},
   "outputs": [
    {
     "name": "stdout",
     "output_type": "stream",
     "text": [
      "Pattern: \n",
      "[[255 255 255 ... 255 255 255]\n",
      " [255 255 255 ... 255 255 255]\n",
      " [255 255 255 ... 255 255 255]\n",
      " ...\n",
      " [255 163   0 ... 255 255 255]\n",
      " [255 163   0 ... 255 255 255]\n",
      " [255 255 255 ... 255 255 255]]\n",
      "was found here:\n",
      "[(491, 283), (513, 527), (557, 341), (601, 241), (645, 347)]\n",
      "Thats 5 times\n",
      "--------------\n"
     ]
    }
   ],
   "source": [
    "show_findings(alphabet, data, pattern_pattern)"
   ]
  },
  {
   "cell_type": "markdown",
   "metadata": {},
   "source": [
    "### Pomiary czasu wykonania"
   ]
  },
  {
   "cell_type": "markdown",
   "metadata": {},
   "source": [
    "#### Porównanie czasu budowania automatu i wyszukiwania dla różnych rozmirów wzorca"
   ]
  },
  {
   "cell_type": "code",
   "execution_count": 18,
   "metadata": {},
   "outputs": [
    {
     "name": "stdout",
     "output_type": "stream",
     "text": [
      "First pattern size: (11, 9)\n",
      "Second pattern size: (19, 101)\n",
      "Third pattern size: (200, 100)\n"
     ]
    },
    {
     "data": {
      "image/png": "[encoded data removed]",
      "text/plain": [
       "<Figure size 1080x1080 with 3 Axes>"
      ]
     },
     "metadata": {
      "needs_background": "light"
     },
     "output_type": "display_data"
    }
   ],
   "source": [
    "randomly_cut_pattern = data[100:300, 100:200]\n",
    "fig, ax = plt.subplots(3, 1, figsize=(15, 15))\n",
    "ax[0].imshow(n_pattern)\n",
    "ax[1].imshow(pattern_pattern)\n",
    "ax[2].imshow(randomly_cut_pattern)\n",
    "\n",
    "print(f'First pattern size: {n_pattern.shape}')\n",
    "print(f'Second pattern size: {pattern_pattern.shape}') \n",
    "print(f'Third pattern size: {randomly_cut_pattern.shape}')"
   ]
  },
  {
   "cell_type": "code",
   "execution_count": 19,
   "metadata": {},
   "outputs": [
    {
     "name": "stdout",
     "output_type": "stream",
     "text": [
      "8.09 ms ± 2.19 ms per loop (mean ± std. dev. of 7 runs, 100 loops each)\n"
     ]
    }
   ],
   "source": [
    "%timeit build_SMA(alphabet, [n_pattern[:, c] for c in range(n_pattern.shape[1])])\n",
    "delta, T, small_delta, small_terminal = build_SMA(alphabet, [n_pattern[:, c] for c in range(n_pattern.shape[1])])"
   ]
  },
  {
   "cell_type": "code",
   "execution_count": 20,
   "metadata": {},
   "outputs": [
    {
     "name": "stdout",
     "output_type": "stream",
     "text": [
      "1.47 s ± 157 ms per loop (mean ± std. dev. of 7 runs, 1 loop each)\n"
     ]
    }
   ],
   "source": [
    "%timeit find_pattern(data, n_pattern, delta, small_delta, small_terminal)"
   ]
  },
  {
   "cell_type": "code",
   "execution_count": 21,
   "metadata": {},
   "outputs": [
    {
     "name": "stdout",
     "output_type": "stream",
     "text": [
      "87 ms ± 9.7 ms per loop (mean ± std. dev. of 7 runs, 10 loops each)\n"
     ]
    }
   ],
   "source": [
    "%timeit build_SMA(alphabet, [pattern_pattern[:, c] for c in range(pattern_pattern.shape[1])])\n",
    "delta, T, small_delta, small_terminal = build_SMA(alphabet, [pattern_pattern[:, c] for c in range(pattern_pattern.shape[1])])"
   ]
  },
  {
   "cell_type": "code",
   "execution_count": 22,
   "metadata": {},
   "outputs": [
    {
     "name": "stdout",
     "output_type": "stream",
     "text": [
      "1.71 s ± 110 ms per loop (mean ± std. dev. of 7 runs, 1 loop each)\n"
     ]
    }
   ],
   "source": [
    "%timeit find_pattern(data, pattern_pattern, delta, small_delta, small_terminal)"
   ]
  },
  {
   "cell_type": "code",
   "execution_count": 23,
   "metadata": {},
   "outputs": [
    {
     "name": "stdout",
     "output_type": "stream",
     "text": [
      "2.25 s ± 169 ms per loop (mean ± std. dev. of 7 runs, 1 loop each)\n"
     ]
    }
   ],
   "source": [
    "%timeit build_SMA(alphabet, [randomly_cut_pattern[:, c] for c in range(randomly_cut_pattern.shape[1])])\n",
    "delta, T, small_delta, small_terminal = build_SMA(alphabet, [randomly_cut_pattern[:, c] for c in range(randomly_cut_pattern.shape[1])])"
   ]
  },
  {
   "cell_type": "code",
   "execution_count": 24,
   "metadata": {},
   "outputs": [
    {
     "name": "stdout",
     "output_type": "stream",
     "text": [
      "1.43 s ± 7.19 ms per loop (mean ± std. dev. of 7 runs, 1 loop each)\n"
     ]
    }
   ],
   "source": [
    "%timeit find_pattern(data, randomly_cut_pattern, delta, small_delta, small_terminal)"
   ]
  },
  {
   "cell_type": "markdown",
   "metadata": {},
   "source": [
    "Można zaobserwować liniowy wzrost czasu konstrukcji automatu w zależności od rozmiaru wzorca. Zgadza się to z teoretycznym przewidywaniem, które mówi, że złożoność obliczeniowa dana jest wzorem $O(|trie| \\cdot |alfabet|)$, gdzie trie może osiągnąć nawet rozmiar całego wzorca."
   ]
  },
  {
   "cell_type": "markdown",
   "metadata": {},
   "source": [
    "Czas przeszukiwania praktycznie nie zależy od rozmiaru wzorca. Powinien zależeć jedynie od rozmiaru przeszukiwanych danych."
   ]
  },
  {
   "cell_type": "markdown",
   "metadata": {},
   "source": [
    "#### Porównanie czasu wyszukiwania dla podzielonego obrazu"
   ]
  },
  {
   "cell_type": "code",
   "execution_count": 26,
   "metadata": {},
   "outputs": [],
   "source": [
    "delta, T, small_delta, small_terminal = build_SMA(alphabet, [pattern_pattern[:, c] for c in range(pattern_pattern.shape[1])])"
   ]
  },
  {
   "cell_type": "code",
   "execution_count": 27,
   "metadata": {},
   "outputs": [
    {
     "name": "stdout",
     "output_type": "stream",
     "text": [
      "1.38 s ± 94.6 ms per loop (mean ± std. dev. of 7 runs, 1 loop each)\n"
     ]
    }
   ],
   "source": [
    "%%timeit \n",
    "find_pattern(data, pattern_pattern, delta, small_delta, small_terminal)"
   ]
  },
  {
   "cell_type": "code",
   "execution_count": 28,
   "metadata": {},
   "outputs": [],
   "source": [
    "delta_size = len(data)//2"
   ]
  },
  {
   "cell_type": "code",
   "execution_count": 29,
   "metadata": {},
   "outputs": [
    {
     "name": "stdout",
     "output_type": "stream",
     "text": [
      "1.43 s ± 175 ms per loop (mean ± std. dev. of 7 runs, 1 loop each)\n"
     ]
    }
   ],
   "source": [
    "%%timeit\n",
    "for i in range(2):\n",
    "    find_pattern(data[i*delta_size:(i+1)*delta_size], pattern_pattern, delta, small_delta, small_terminal)"
   ]
  },
  {
   "cell_type": "code",
   "execution_count": 30,
   "metadata": {},
   "outputs": [],
   "source": [
    "delta_size = len(data)//4"
   ]
  },
  {
   "cell_type": "code",
   "execution_count": 31,
   "metadata": {},
   "outputs": [
    {
     "name": "stdout",
     "output_type": "stream",
     "text": [
      "1.35 s ± 7.47 ms per loop (mean ± std. dev. of 7 runs, 1 loop each)\n"
     ]
    }
   ],
   "source": [
    "%%timeit\n",
    "for i in range(4):\n",
    "    find_pattern(data[i*delta_size:(i+1)*delta_size], pattern_pattern, delta, small_delta, small_terminal)"
   ]
  },
  {
   "cell_type": "code",
   "execution_count": 32,
   "metadata": {},
   "outputs": [],
   "source": [
    "delta_size = len(data)//8"
   ]
  },
  {
   "cell_type": "code",
   "execution_count": 33,
   "metadata": {},
   "outputs": [
    {
     "name": "stdout",
     "output_type": "stream",
     "text": [
      "1.34 s ± 24.9 ms per loop (mean ± std. dev. of 7 runs, 1 loop each)\n"
     ]
    }
   ],
   "source": [
    "%%timeit\n",
    "for i in range(8):\n",
    "    find_pattern(data[i*delta_size:(i+1)*delta_size], pattern_pattern, delta, small_delta, small_terminal)"
   ]
  },
  {
   "cell_type": "markdown",
   "metadata": {},
   "source": [
    "Otrzymane wyniki sugerują, że czas przeszukiwania jest faktycznie liniowy w zależności od długości przeszukiwanych danych."
   ]
  },
  {
   "cell_type": "code",
   "execution_count": null,
   "metadata": {},
   "outputs": [],
   "source": []
  }
 ],
 "metadata": {
  "kernelspec": {
   "display_name": "Python 3",
   "language": "python",
   "name": "python3"
  },
  "language_info": {
   "codemirror_mode": {
    "name": "ipython",
    "version": 3
   },
   "file_extension": ".py",
   "mimetype": "text/x-python",
   "name": "python",
   "nbconvert_exporter": "python",
   "pygments_lexer": "ipython3",
   "version": "3.7.3"
  },
  "toc": {
   "base_numbering": 1,
   "nav_menu": {},
   "number_sections": true,
   "sideBar": true,
   "skip_h1_title": false,
   "title_cell": "Table of Contents",
   "title_sidebar": "Contents",
   "toc_cell": false,
   "toc_position": {},
   "toc_section_display": true,
   "toc_window_display": false
  },
  "varInspector": {
   "cols": {
    "lenName": 16,
    "lenType": 16,
    "lenVar": 40
   },
   "kernels_config": {
    "python": {
     "delete_cmd_postfix": "",
     "delete_cmd_prefix": "del ",
     "library": "var_list.py",
     "varRefreshCmd": "print(var_dic_list())"
    },
    "r": {
     "delete_cmd_postfix": ") ",
     "delete_cmd_prefix": "rm(",
     "library": "var_list.r",
     "varRefreshCmd": "cat(var_dic_list()) "
    }
   },
   "types_to_exclude": [
    "module",
    "function",
    "builtin_function_or_method",
    "instance",
    "_Feature"
   ],
   "window_display": false
  }
 },
 "nbformat": 4,
 "nbformat_minor": 2
}
